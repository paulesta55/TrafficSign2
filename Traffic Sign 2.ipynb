{
 "cells": [
  {
   "cell_type": "markdown",
   "metadata": {},
   "source": [
    "<h1 style=\"text-align: center;\">Interview Question </h1>\n",
    "<h2 style=\"text-align: center;\">Data management and analysis</h2>"
   ]
  },
  {
   "cell_type": "code",
   "execution_count": 17,
   "metadata": {},
   "outputs": [],
   "source": [
    "import matplotlib.pyplot as plt\n",
    "import pandas as pd\n",
    "import numpy as np\n",
    "import copy as cp\n",
    "import json\n",
    "gtsdb = pd.read_csv('./FullIJCNN2013/gt.txt', sep=\";\", header=None)\n",
    "gtsdb.columns = [\"img\", \"x1\", \"y1\", \"x2\", \"y2\",\"id\"]\n",
    "with open('ex2/GTSDB.json') as f:\n",
    "    updated_data = json.load(f)\n",
    "    \n",
    "# Classes containing a 'Red Round Circle'\n",
    "classes = [0,1,2,3,4,5,7,8,9,10,15,16,43,44]\n"
   ]
  },
  {
   "cell_type": "markdown",
   "metadata": {},
   "source": [
    "### Question 1:"
   ]
  },
  {
   "cell_type": "markdown",
   "metadata": {},
   "source": [
    "Firt we print the predictions data with a readable format"
   ]
  },
  {
   "cell_type": "code",
   "execution_count": 91,
   "metadata": {},
   "outputs": [],
   "source": [
    "def print_pretty_json(json_data):\n",
    "    \"\"\"Print json data with a readable format\n",
    "    \n",
    "    Parameters\n",
    "    ----------\n",
    "    json_data: dictionary\"\"\"\n",
    "    print(json.dumps(json_data, indent = 4, sort_keys=True))\n",
    "\n",
    "# print_pretty_json(updated_data)"
   ]
  },
  {
   "cell_type": "markdown",
   "metadata": {},
   "source": [
    "We get rid of the outputs metadata"
   ]
  },
  {
   "cell_type": "code",
   "execution_count": 92,
   "metadata": {
    "scrolled": false
   },
   "outputs": [
    {
     "name": "stdout",
     "output_type": "stream",
     "text": [
      "Available frames:\n"
     ]
    }
   ],
   "source": [
    "frames = updated_data['output']['frames']\n",
    "print(\"Available frames:\")\n",
    "# print(json.dumps(frames,indent=4,sort_keys=True))"
   ]
  },
  {
   "cell_type": "markdown",
   "metadata": {},
   "source": [
    "We display the frames containing at least one 'pn' traffic sign. Then we use labellmg, an open source \"graphical image annotation tool and label object bounding boxes in images\" (https://github.com/tzutalin/labelImg) to annotate and label  'pn' traffic signs detected by the model. "
   ]
  },
  {
   "cell_type": "code",
   "execution_count": 94,
   "metadata": {
    "scrolled": true
   },
   "outputs": [],
   "source": [
    "def filter_signs(signs):\n",
    "    \"\"\"Select 'pn' traffic signs from YOLO output\n",
    "    \n",
    "    Parameters\n",
    "    ----------\n",
    "    signs: list of 'sign' dictionaries\n",
    "    \n",
    "    Returns\n",
    "    ---------\n",
    "    'True' if one of the sign belongs to 'pn' class\n",
    "    'False' if no signs belongs to 'pn'\"\"\"\n",
    "    for sign in signs:\n",
    "        if sign['class']==\"pn\":\n",
    "            return True\n",
    "    return False\n",
    "\n",
    "frames_pn = [frame for frame in frames if filter_signs(frame['signs']) ]\n",
    "# print(\"Traffic signs to update:\")\n",
    "# print_pretty_json(frames_pn)\n",
    "\n",
    "\n"
   ]
  },
  {
   "cell_type": "markdown",
   "metadata": {},
   "source": [
    "We update GTSDB groundtruth file using XML files we generated using LabelImg. We named the resulting file 'gtUpdated.txt'."
   ]
  },
  {
   "cell_type": "code",
   "execution_count": 23,
   "metadata": {},
   "outputs": [
    {
     "name": "stdout",
     "output_type": "stream",
     "text": [
      "00259.xml\n",
      "ex2/xml/00259.xml\n",
      "00261.xml\n",
      "ex2/xml/00261.xml\n",
      "00274.xml\n",
      "ex2/xml/00274.xml\n",
      "00304.xml\n",
      "ex2/xml/00304.xml\n",
      "00544.xml\n",
      "ex2/xml/00544.xml\n",
      "00545.xml\n",
      "ex2/xml/00545.xml\n",
      "00555.xml\n",
      "ex2/xml/00555.xml\n",
      "00575.xml\n",
      "ex2/xml/00575.xml\n",
      "00673.xml\n",
      "ex2/xml/00673.xml\n",
      "00697.xml\n",
      "ex2/xml/00697.xml\n",
      "00777.xml\n",
      "ex2/xml/00777.xml\n",
      "00813.xml\n",
      "ex2/xml/00813.xml\n",
      "00841.xml\n",
      "ex2/xml/00841.xml\n"
     ]
    }
   ],
   "source": [
    "import xml.etree.ElementTree as ET\n",
    "import os\n",
    "\n",
    "\n",
    "def update_data(path):\n",
    "    \"\"\"Create a new GTSDB groundtruth file using former file and XML contained in the specified directory\n",
    "    \n",
    "    Prameters\n",
    "    ---------\n",
    "    path: path of the repository containing the new bounding boxes annotations and labels\"\"\"\n",
    "    with open('ex2/gtUpdated.txt','a') as gt:\n",
    "        for r, d, files in os.walk(path):\n",
    "            for file in files:\n",
    "                print(file)\n",
    "                root = ET.parse(os.path.join(path, file)).getroot()\n",
    "                print(os.path.join(path, file))\n",
    "\n",
    "                for bb_object in root.findall('object'):\n",
    "                    id_bb=bb_object.find('name').text\n",
    "                    xmin=bb_object.find('bndbox').find('xmin').text\n",
    "                    ymin=bb_object.find('bndbox').find('ymin').text\n",
    "                    xmax=bb_object.find('bndbox').find('xmax').text\n",
    "                    ymax=bb_object.find('bndbox').find('ymax').text\n",
    "                    name,_ = os.path.splitext(file)\n",
    "                    name += '.ppm'\n",
    "                    line = name+';'+xmin+';'+ymin+';'+xmax+';'+ymax+';'+id_bb+'\\n'\n",
    "                    gt.write(line)\n",
    "                    \n",
    "            \n",
    "update_data('ex2/xml/')"
   ]
  },
  {
   "cell_type": "markdown",
   "metadata": {},
   "source": [
    "We load the updated groundtruth in a pandas DataFrame."
   ]
  },
  {
   "cell_type": "code",
   "execution_count": 24,
   "metadata": {},
   "outputs": [],
   "source": [
    "data = pd.read_csv('./ex2/gtUpdated.txt', sep=\";\", header=None)\n",
    "\n",
    "data.columns = [\"img\", \"x1\", \"y1\", \"x2\", \"y2\",\"id\"]\n",
    "im00259 = data[data[\"img\"]=='00259.ppm']\n",
    "\n",
    "updatedData = cp.deepcopy(data)\n"
   ]
  },
  {
   "cell_type": "markdown",
   "metadata": {},
   "source": [
    "### Question 2:"
   ]
  },
  {
   "cell_type": "markdown",
   "metadata": {},
   "source": [
    "To analyze the results we first compute the number of True Positives, False Positives and False Negatives. For every point we use the current detection_confidence value as a detection threshold to compute the recall and the precision values using the following formulas :\n",
    "\n",
    "$Precision = \\frac{TP}{TP+FP}$\n",
    "\n",
    "$Recall = \\frac{TP}{TP+FN}$\n",
    "\n",
    "Then we use 2 methods to compute the average precision of the system: Area under Curve-AUC (PASCAL VOC2010–2012) and 11-point interpolated method (PASCAL VOC2008).\n",
    "\n",
    "\n",
    "\n",
    "(more here : https://medium.com/@jonathan_hui/map-mean-average-precision-for-object-detection-45c121a31173 )"
   ]
  },
  {
   "cell_type": "code",
   "execution_count": 118,
   "metadata": {},
   "outputs": [],
   "source": [
    "def compute_union(gt_coordinates,eval_coordinates,intersection):\n",
    "    \"\"\"Compute union area between 2 bounding boxes (usually the groundtruth and a detected bounding box)\n",
    "    \n",
    "    Parameters\n",
    "    ----------\n",
    "    gt_coordinates: list of 4 integers. Coordinates (xmin,ymin,xmax,ymax) of the first bounding box \n",
    "    eval_coordinates: list of 4 integers. Coordinates (xmin,ymin,xmax,ymax) of the second bounding box\n",
    "    \n",
    "    Returns\n",
    "    ----------\n",
    "    union: integer. Union area of the 2 bounding boxes\"\"\"\n",
    "    gt_area = (gt_coordinates[2]-gt_coordinates[0]+1)*(gt_coordinates[3]-gt_coordinates[1]+1)\n",
    "    eval_area = (eval_coordinates[2]-eval_coordinates[0]+1)*(eval_coordinates[3]-eval_coordinates[1]+1)\n",
    "    union = float(gt_area+eval_area-intersection)\n",
    "    return union\n",
    "\n",
    "def compute_intersection(gt_coordinates,eval_coordinates):\n",
    "    \"\"\"Compute intersection area between 2 bounding boxes (usually the groundtruth and a detected bounding box)\n",
    "    \n",
    "    Parameters\n",
    "    ----------\n",
    "    gt_coordinates: list of 4 integers. Coordinates (xmin,ymin,xmax,ymax) of the first bounding box \n",
    "    eval_coordinates: list of 4 integers. Coordinates (xmin,ymin,xmax,ymax) of the second bounding box\n",
    "    \n",
    "    Returns\n",
    "    ----------\n",
    "    intersection: integer. Intersection area of the 2 bounding boxes\"\"\"\n",
    "    xA = max(gt_coordinates[0], eval_coordinates[0])\n",
    "    yA = max(gt_coordinates[1], eval_coordinates[1])\n",
    "    xB = min(gt_coordinates[2], eval_coordinates[2])\n",
    "    yB = min(gt_coordinates[3], eval_coordinates[3])\n",
    "    # intersection area\n",
    "    return (xB - xA + 1) * (yB - yA + 1)\n",
    "\n",
    "def IoU(gt_coordinates,eval_coordinates):\n",
    "    \"\"\"Compute Intersection/Union for 2 bounding boxes (usually the groundtruth and a detected bounding box)\n",
    "    \n",
    "    Parameters\n",
    "    ----------\n",
    "    gt_coordinates: list of 4 integers. Coordinates (xmin,ymin,xmax,ymax) of the first bounding box \n",
    "    eval_coordinates: list of 4 integers. Coordinates (xmin,ymin,xmax,ymax) of the second bounding box\n",
    "    \n",
    "    Returns\n",
    "    ----------\n",
    "    union: 0.0< float < 1.0 . IoU of the 2 bounding boxes\"\"\"\n",
    "    if(gt_coordinates[0]>eval_coordinates[2] or eval_coordinates[0]>gt_coordinates[2] or\n",
    "       gt_coordinates[1]>eval_coordinates[3] or gt_coordinates[3]<eval_coordinates[1]):\n",
    "#         print('no intersection')\n",
    "        return -1\n",
    "    intersection = compute_intersection(gt_coordinates,eval_coordinates)\n",
    "    if(intersection == -1):\n",
    "#         print('cannot compute IoU')\n",
    "        return -1\n",
    "    else:\n",
    "        union = compute_union(gt_coordinates,eval_coordinates,intersection)\n",
    "    if(union<0):\n",
    "#         print('negative union error\\n cannot compute IoU')\n",
    "        return -1\n",
    "    else:\n",
    "        IoU = intersection/union\n",
    "\n",
    "    if(IoU > 1):\n",
    "#         print('IoU greater than 1 error')\n",
    "        return -1\n",
    "    return IoU\n",
    "    \n",
    "\n",
    "\n",
    "def sort_predictions(predictions):\n",
    "    \"\"\"Sort YOLO GTSDB predictions by 'detection_confidence' value and insert them in a pandas DataFrame \n",
    "    \n",
    "    Parameters\n",
    "    ----------\n",
    "    predictions: dictionary in YOLO 'predictions format'\n",
    "    \n",
    "    Returns\n",
    "    ----------\n",
    "    sorted_predictions: pandas DataFrame. predictions sorted by 'detection_confidence' value. The DataFrame contains one\n",
    "    row per sign.\"\"\"\n",
    "    predictions_cp = predictions.copy() \n",
    "    sorted_predictions = pd.DataFrame(columns=[\"img\", \"x1\", \"y1\", \"x2\", \"y2\",\"detection_confidence\",\"class\"])\n",
    "    i = 0\n",
    "    for frame in predictions_cp:\n",
    "        for sign in frame['signs']:\n",
    "            if(sign['class']=='RedRoundSign' or sign['class']=='pn'):\n",
    "                sorted_predictions=sorted_predictions.append(pd.DataFrame([[frame[\"frame_number\"],sign['coordinates'][0],\n",
    "                                                         sign['coordinates'][1],sign['coordinates'][0]+\n",
    "                                                         sign['coordinates'][2],sign['coordinates'][1]+\n",
    "                                                         sign['coordinates'][3],sign[\"detection_confidence\"],\n",
    "                                                                            sign[\"class\"]]],\n",
    "                                                       columns=[\"img\", \"x1\", \"y1\", \"x2\", \"y2\",\"detection_confidence\",\n",
    "                                                                \"class\"]),\n",
    "                                                             ignore_index=True)\n",
    "                i+=1\n",
    "            \n",
    "    return sorted_predictions.sort_values(by=['detection_confidence'],ascending=False)\n",
    "\n",
    "\n",
    "def analyze_improved(ground_truth,predictions,iou_threshold=0.5):\n",
    "    \"\"\"Compute various usual object detections metrics (number of true positives,number of false positives,recall values\n",
    "    per detection_confidence/detection_threshold value, precision values per detection_confidence/detection_threshold value)\n",
    "    It also stores the indexes of detected ground truth objects and the indexes of false positives for later analysis.\n",
    "    Significantly inspired by https://github.com/rafaelpadilla/Object-Detection-Metrics/blob/master/lib/Evaluator.py\n",
    "    \n",
    "    Parameters\n",
    "    ----------\n",
    "    ground_truth: pandas DataFrame of ground truth traffic signs.\n",
    "    predictions: pandas DataFrame of detected traffic signs. IT MUST BE SORTED BY detection_confidence VALUES\n",
    "    \n",
    "    Returns\n",
    "    ----------\n",
    "    number of true positives: integer\n",
    "    number of false positives: integer\n",
    "    recall values: list of float. They are computed using the detection_confidence value of each detected sign\n",
    "    precision values: list of float. They are computed using the detection_confidence value of each detected sign\n",
    "    indexes of detected ground truth: list of integers\n",
    "    indexes of false positives: list of integers\"\"\"\n",
    "    predictions_cp = predictions.copy()\n",
    "#     predictions_cp = sort_predictions(predictions_cp)\n",
    "    nb_predictions=predictions_cp.shape[0]\n",
    "    print(nb_predictions)\n",
    "    TP = np.zeros(nb_predictions)\n",
    "    FP = np.zeros(nb_predictions)\n",
    "    ground_truth_cp = ground_truth.copy()\n",
    "    ground_truth_cp = ground_truth_cp.loc[ground_truth_cp[\"id\"].isin(classes)]\n",
    "    nb_gt = ground_truth_cp.shape[0]\n",
    "    i=0\n",
    "    Det_GT_indexes=[]\n",
    "    FP_indexes=[]\n",
    "    for index,prediction in predictions_cp.iterrows():\n",
    "        frame_gt = ground_truth_cp.loc[ground_truth_cp['img']==prediction['img']]\n",
    "        iou = 0\n",
    "        for index_gt,gt in frame_gt.iterrows():\n",
    "            gt_coordinates = [gt.x1,gt.y1,gt.x2,gt.y2]\n",
    "            prediction_coordinates=[prediction.x1,prediction.y1,prediction.x2,prediction.y2]\n",
    "            iou_temp = IoU(gt_coordinates,prediction_coordinates)\n",
    "            if(iou_temp>iou):\n",
    "                match_index = index_gt\n",
    "                iou = iou_temp         \n",
    "        if(iou>iou_threshold):\n",
    "            TP[i]=1\n",
    "            ground_truth_cp.drop([match_index],axis=0)\n",
    "            Det_GT_indexes.append(match_index)\n",
    "        else:     \n",
    "            FP[i]=1\n",
    "            FP_indexes.append(index)\n",
    "        i+=1\n",
    "    TP_cum = np.cumsum(TP)\n",
    "    FP_cum = np.cumsum(FP)\n",
    "    recalls=TP_cum/nb_predictions\n",
    "    precisions=np.divide(TP_cum, (FP_cum + TP_cum))\n",
    "    return np.sum(TP),np.sum(FP),recalls,precisions,Det_GT_indexes,FP_indexes\n",
    "            \n",
    "\n",
    "\n",
    "def CalculateAveragePrecision(rec, prec):\n",
    "    \"\"\"Comes from https://github.com/rafaelpadilla/Object-Detection-Metrics/blob/master/lib/Evaluator.py\n",
    "    Compute Average Precision value given a sorted list of recall values and a sorted list of precision values using \n",
    "    'Every Point Interpolated method'. \"\"\"\n",
    "    mrec = []\n",
    "    mrec.append(0)\n",
    "    [mrec.append(e) for e in rec]\n",
    "    mrec.append(1)\n",
    "    mpre = []\n",
    "    mpre.append(0)\n",
    "    [mpre.append(e) for e in prec]\n",
    "    mpre.append(0)\n",
    "    for i in range(len(mpre) - 1, 0, -1):\n",
    "        mpre[i - 1] = max(mpre[i - 1], mpre[i])\n",
    "    ii = []\n",
    "    for i in range(len(mrec) - 1):\n",
    "        #if recall[i+1]!= recall[i] store i \n",
    "        if mrec[1:][i] != mrec[0:-1][i]:\n",
    "            ii.append(i + 1)\n",
    "    ap = 0\n",
    "    for i in ii:\n",
    "        ap = ap + np.sum((mrec[i] - mrec[i - 1]) * mpre[i])\n",
    "    return [ap, mpre[0:len(mpre) - 1], mrec[0:len(mpre) - 1], ii]\n",
    "\n",
    "def ElevenPointInterpolatedAP(rec, prec):\n",
    "    \"\"\"Comes from https://github.com/rafaelpadilla/Object-Detection-Metrics/blob/master/lib/Evaluator.py\n",
    "    Compute Average Precision value given a sorted list of recall values and a sorted list of precision values using \n",
    "    '11-Points Interpolated method'. \"\"\"\n",
    "    # def CalculateAveragePrecision2(rec, prec):\n",
    "    mrec = []\n",
    "    # mrec.append(0)\n",
    "    [mrec.append(e) for e in rec]\n",
    "    # mrec.append(1)\n",
    "    mpre = []\n",
    "    # mpre.append(0)\n",
    "    [mpre.append(e) for e in prec]\n",
    "    # mpre.append(0)\n",
    "    recallValues = np.linspace(0, 1, 11)\n",
    "    recallValues = list(recallValues[::-1])\n",
    "    rhoInterp = []\n",
    "    recallValid = []\n",
    "    # For each recallValues (0, 0.1, 0.2, ... , 1)\n",
    "    for r in recallValues:\n",
    "        # Obtain all recall values higher or equal than r\n",
    "        argGreaterRecalls = np.argwhere(mrec[:] >= r)\n",
    "        pmax = 0\n",
    "        # If there are recalls above r\n",
    "        if argGreaterRecalls.size != 0:\n",
    "            pmax = max(mpre[argGreaterRecalls.min():])\n",
    "        recallValid.append(r)\n",
    "        rhoInterp.append(pmax)\n",
    "        # By definition AP = sum(max(precision whose recall is above r))/11\n",
    "    ap = sum(rhoInterp) / 11\n",
    "    # Generating values for the plot\n",
    "    rvals = []\n",
    "    rvals.append(recallValid[0])\n",
    "    [rvals.append(e) for e in recallValid]\n",
    "    rvals.append(0)\n",
    "    pvals = []\n",
    "    pvals.append(0)\n",
    "    [pvals.append(e) for e in rhoInterp]\n",
    "    pvals.append(0)\n",
    "    # rhoInterp = rhoInterp[::-1]\n",
    "    cc = []\n",
    "    for i in range(len(rvals)):\n",
    "        p = (rvals[i], pvals[i - 1])\n",
    "        if p not in cc:\n",
    "            cc.append(p)\n",
    "        p = (rvals[i], pvals[i])\n",
    "        if p not in cc:\n",
    "            cc.append(p)\n",
    "    recallValues = [i[0] for i in cc]\n",
    "    rhoInterp = [i[1] for i in cc]\n",
    "    return [ap, rhoInterp, recallValues, None]\n"
   ]
  },
  {
   "cell_type": "code",
   "execution_count": 119,
   "metadata": {},
   "outputs": [
    {
     "name": "stdout",
     "output_type": "stream",
     "text": [
      "540\n",
      "IoU Thresold: 0.5\n",
      "508.0 true positives\n",
      "32.0 false positives\n",
      "63.0 false negatives\n",
      "average precision (Every Point Interpolated method): 0.9338914467482098\n",
      "average precision (11-Points Interpolated method): 0.9029957752635763\n"
     ]
    },
    {
     "data": {
      "image/png": "[encoded data removed]",
      "text/plain": [
       "<Figure size 432x288 with 1 Axes>"
      ]
     },
     "metadata": {
      "needs_background": "light"
     },
     "output_type": "display_data"
    }
   ],
   "source": [
    "threshold=0.5\n",
    "gt = updatedData.loc[updatedData['id'].isin(classes)]\n",
    "sorted_predictions = sort_predictions(frames)\n",
    "TP_total,FP_total,recalls,precisions,Det_GT_indexes,FP_indexes = analyze_improved(updatedData,sorted_predictions,threshold)\n",
    "ap, mpre, mrec, ii=CalculateAveragePrecision(recalls, precisions)\n",
    "result=ElevenPointInterpolatedAP(recalls, precisions)\n",
    "\n",
    "plt.plot(recalls,precisions)\n",
    "plt.ylabel('precision')\n",
    "plt.xlabel('recall')\n",
    "plt.title('Precision x Recall curve')\n",
    "plt.savefig('prCurve')\n",
    "print(\"IoU Thresold:\",threshold)\n",
    "print(TP_total,\"true positives\")\n",
    "print(FP_total,\"false positives\")\n",
    "print(gt.shape[0]-TP_total,\"false negatives\")\n",
    "print(\"average precision (Every Point Interpolated method):\",ap)\n",
    "print(\"average precision (11-Points Interpolated method):\",result[0])\n"
   ]
  },
  {
   "cell_type": "code",
   "execution_count": 101,
   "metadata": {
    "scrolled": false
   },
   "outputs": [
    {
     "data": {
      "image/png": "[encoded data removed]",
      "text/plain": [
       "<Figure size 432x288 with 1 Axes>"
      ]
     },
     "metadata": {
      "needs_background": "light"
     },
     "output_type": "display_data"
    },
    {
     "data": {
      "image/png": "[encoded data removed]",
      "text/plain": [
       "<Figure size 432x288 with 1 Axes>"
      ]
     },
     "metadata": {
      "needs_background": "light"
     },
     "output_type": "display_data"
    }
   ],
   "source": [
    "undetected = gt.loc[~gt.index.isin(Det_GT_indexes)]\n",
    "undetected = undetected.sort_values(by=['id'])\n",
    "\n",
    "gt[['img','id']].plot.hist(by='id',bins=44)\n",
    "plt.title('number of ground truth signs per category')\n",
    "plt.xlabel('categories id')\n",
    "plt.savefig('nbSigns')\n",
    "undetected[['img','id']].plot.hist(by='id',bins=44)\n",
    "plt.title('number of false negatives per category')\n",
    "plt.xlabel('categories id')\n",
    "plt.savefig('nbSignsFP')\n"
   ]
  },
  {
   "cell_type": "markdown",
   "metadata": {},
   "source": [
    "10th category concentrates a higher frequency of false positives than the other categories."
   ]
  },
  {
   "cell_type": "code",
   "execution_count": 36,
   "metadata": {
    "scrolled": false
   },
   "outputs": [
    {
     "name": "stdout",
     "output_type": "stream",
     "text": [
      "False positives sorted by detection confidence:\n",
      "           img    x1   y1    x2   y2  detection_confidence         class\n",
      "84   00146.ppm  1201  114  1328  247              0.977745  RedRoundSign\n",
      "279  00395.ppm   900  518   939  557              0.942657  RedRoundSign\n",
      "215  00320.ppm   921  401   951  434              0.928424  RedRoundSign\n",
      "118  00207.ppm  1299  332  1345  374              0.917990  RedRoundSign\n",
      "397  00616.ppm   876  538   905  568              0.913374  RedRoundSign\n",
      "17   00039.ppm   909  296   937  326              0.898300  RedRoundSign\n",
      "177  00276.ppm   544  405   576  428              0.888065  RedRoundSign\n",
      "119  00207.ppm  1136  367  1169  398              0.874424  RedRoundSign\n",
      "524  00879.ppm   986  505  1030  545              0.866456  RedRoundSign\n",
      "192  00295.ppm    99  415   141  464              0.857375  RedRoundSign\n",
      "193  00295.ppm  1226  362  1273  412              0.832538  RedRoundSign\n",
      "120  00210.ppm  1209  329  1239  365              0.826637  RedRoundSign\n",
      "507  00845.ppm   964  422   988  444              0.823398  RedRoundSign\n",
      "38   00087.ppm   911  435   945  468              0.818832  RedRoundSign\n",
      "477  00765.ppm   545  509   580  542              0.798628  RedRoundSign\n",
      "111  00186.ppm   281  401   295  418              0.763937  RedRoundSign\n",
      "51   00102.ppm   719  211   745  238              0.734262  RedRoundSign\n",
      "325  00459.ppm   884  522   903  546              0.686501  RedRoundSign\n",
      "49   00095.ppm   700  442   719  464              0.684837  RedRoundSign\n",
      "185  00289.ppm   284  401   325  439              0.662314  RedRoundSign\n",
      "204  00310.ppm  1239  413  1266  450              0.640645  RedRoundSign\n",
      "176  00274.ppm   901  410   922  428              0.634428  RedRoundSign\n",
      "485  00781.ppm   652  446   722  484              0.634036  RedRoundSign\n",
      "29   00071.ppm   797  445   822  474              0.625725  RedRoundSign\n",
      "138  00237.ppm   822  362   851  389              0.615487  RedRoundSign\n",
      "255  00376.ppm   987  510  1031  553              0.610020  RedRoundSign\n",
      "121  00214.ppm  1160  218  1185  250              0.602901  RedRoundSign\n",
      "27   00070.ppm  1037  428  1072  472              0.590381  RedRoundSign\n",
      "101  00174.ppm   727  423   746  446              0.588169  RedRoundSign\n",
      "346  00492.ppm   896  537   917  559              0.565288  RedRoundSign\n",
      "197  00299.ppm  1245  244  1307  305              0.565171  RedRoundSign\n",
      "60   00119.ppm   185  439   223  483              0.545009  RedRoundSign\n"
     ]
    }
   ],
   "source": [
    "\n",
    "FP_detections = sorted_predictions.loc[sorted_predictions.index.isin(FP_indexes)].sort_values(\n",
    "    by=['detection_confidence','img'],ascending=False)\n",
    "print(\"False positives sorted by detection confidence:\")\n",
    "print(FP_detections)\n"
   ]
  },
  {
   "cell_type": "markdown",
   "metadata": {},
   "source": [
    "We display draw the bounding boxes of the false positives on the images."
   ]
  },
  {
   "cell_type": "code",
   "execution_count": 103,
   "metadata": {},
   "outputs": [],
   "source": [
    "import cv2\n",
    "import os\n",
    "for i, fp in FP_detections.iterrows():\n",
    "    im = cv2.imread(os.path.join('FullIJCNN2013',fp.img))\n",
    "    im_name, file_extension = os.path.splitext(fp.img)\n",
    "    im = cv2.rectangle(im,(fp.x1,fp.y1),(fp.x2,fp.y2),(0,255,0),3)\n",
    "    cv2.imwrite(os.path.join('ex2','fp_examples',im_name+'.jpg'),im)"
   ]
  }
 ],
 "metadata": {
  "kernelspec": {
   "display_name": "Python 3",
   "language": "python",
   "name": "python3"
  },
  "language_info": {
   "codemirror_mode": {
    "name": "ipython",
    "version": 3
   },
   "file_extension": ".py",
   "mimetype": "text/x-python",
   "name": "python",
   "nbconvert_exporter": "python",
   "pygments_lexer": "ipython3",
   "version": "3.6.5"
  }
 },
 "nbformat": 4,
 "nbformat_minor": 2
}
